{
 "cells": [
  {
   "cell_type": "code",
   "execution_count": null,
   "metadata": {},
   "outputs": [],
   "source": [
    "class chave():\n",
    "    \n",
    "    def _init_(self):\n",
    "      self.marca = str() #fabricante\n",
    "\n",
    "#instanciar objetos da classe chave para usarmos\n",
    "\n",
    "#instanciação de 1 objeto (uma cópia) de chave \n",
    "chave_sala = chave()\n",
    "\n",
    "chave_sala.marca = \"ef\""
   ]
  },
  {
   "cell_type": "code",
   "execution_count": 11,
   "metadata": {},
   "outputs": [
    {
     "name": "stdout",
     "output_type": "stream",
     "text": [
      "will\n",
      "Oi\n"
     ]
    }
   ],
   "source": [
    "class pessoa():\n",
    "    \n",
    "    def __init__(self):\n",
    "       self.nome = str()\n",
    "\n",
    "    def dizerOi(self):\n",
    "       return \"Oi\"\n",
    "\n",
    "sem_nome = pessoa()\n",
    "sem_nome.nome = \"will\"\n",
    "dizer = pessoa()\n",
    "\n",
    "print(sem_nome.nome)\n",
    "print(sem_nome.dizerOi())\n"
   ]
  },
  {
   "cell_type": "markdown",
   "metadata": {},
   "source": [
    "## Exercícios"
   ]
  },
  {
   "cell_type": "markdown",
   "metadata": {},
   "source": [
    "### Exercícios: Complete a lacuna\n",
    "\n",
    "1. Complete a definição da classe abaixo para que ela tenha um atributo chamado `cor`:\n",
    "   \n",
    "   ```python\n",
    "   class carro():\n",
    "       def __init__(self):\n",
    "           self.____ = str()\n",
    "   ```\n",
    "\n",
    "2. Complete o código para instanciar um objeto da classe `pessoa` e atribuir o nome \"Ana\":\n",
    "\n",
    "   ```python\n",
    "   pessoa1 = pessoa()\n",
    "   pessoa1.____ = \"Ana\"\n",
    "   ```\n",
    "\n",
    "3. Complete o método da classe `chave` para retornar a marca da chave:\n",
    "\n",
    "   ```python\n",
    "   class chave():\n",
    "       def __init__(self):\n",
    "           self.marca = str()\n",
    "       def mostrar_marca(self):\n",
    "           return self.____\n",
    "   ```\n",
    "\n",
    "4. Complete o código para criar uma lista com três objetos da classe `pessoa`:\n",
    "\n",
    "   ```python\n",
    "   lista = [pessoa(), pessoa(), ____]\n",
    "   ```\n",
    "\n",
    "5. Complete o método construtor da classe `pessoa` para receber o nome como parâmetro:\n",
    "\n",
    "   ```python\n",
    "   class pessoa():\n",
    "       def __init__(self, ____):\n",
    "           self.nome = nome\n",
    "   ```"
   ]
  },
  {
   "cell_type": "markdown",
   "metadata": {},
   "source": [
    "## Respostas\n"
   ]
  },
  {
   "cell_type": "code",
   "execution_count": null,
   "metadata": {},
   "outputs": [],
   "source": [
    "# Exercício 1\n",
    "\n",
    "class carro():\n",
    "    def __init__(self):\n",
    "        self.cor = str()"
   ]
  },
  {
   "cell_type": "code",
   "execution_count": null,
   "metadata": {},
   "outputs": [],
   "source": [
    "# Exercicio 2\n",
    "\n",
    "pessoa1 = pessoa()\n",
    "pessoa1.nome = \"Ana\"\n"
   ]
  },
  {
   "cell_type": "code",
   "execution_count": null,
   "metadata": {},
   "outputs": [],
   "source": [
    "# Exercicio 3\n",
    "\n",
    "class chave():\n",
    "       def __init__(self):\n",
    "           self.marca = str()\n",
    "       def mostrar_marca(self):\n",
    "           return self.marca"
   ]
  },
  {
   "cell_type": "code",
   "execution_count": null,
   "metadata": {},
   "outputs": [],
   "source": [
    "# Exercicio 5\n",
    "\n",
    "class pessoa():\n",
    "       def __init__(self, nome):\n",
    "           self.nome = nome"
   ]
  }
 ],
 "metadata": {
  "kernelspec": {
   "display_name": "Python 3",
   "language": "python",
   "name": "python3"
  },
  "language_info": {
   "codemirror_mode": {
    "name": "ipython",
    "version": 3
   },
   "file_extension": ".py",
   "mimetype": "text/x-python",
   "name": "python",
   "nbconvert_exporter": "python",
   "pygments_lexer": "ipython3",
   "version": "3.13.2"
  }
 },
 "nbformat": 4,
 "nbformat_minor": 2
}
